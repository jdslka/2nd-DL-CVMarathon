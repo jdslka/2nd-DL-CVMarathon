{
 "cells": [
  {
   "cell_type": "markdown",
   "metadata": {},
   "source": [
    "# 作業\n",
    "\n",
    "使用 [Lena](http://optipng.sourceforge.net/pngtech/img/lena.png)\n",
    "\n",
    "- 改變圖片的 color space (`HLS`, `LAB`) 並呈現"
   ]
  },
  {
   "cell_type": "code",
   "execution_count": 2,
   "metadata": {},
   "outputs": [
    {
     "data": {
      "text/plain": [
       "numpy.ndarray"
      ]
     },
     "execution_count": 2,
     "metadata": {},
     "output_type": "execute_result"
    }
   ],
   "source": [
    "import cv2\n",
    "imd = cv2.imread('lena.png')\n",
    "type(imd)"
   ]
  },
  {
   "cell_type": "code",
   "execution_count": 3,
   "metadata": {},
   "outputs": [
    {
     "data": {
      "text/plain": [
       "(512, 512, 3)"
      ]
     },
     "execution_count": 3,
     "metadata": {},
     "output_type": "execute_result"
    }
   ],
   "source": [
    "imd.shape"
   ]
  },
  {
   "cell_type": "code",
   "execution_count": 4,
   "metadata": {},
   "outputs": [],
   "source": [
    "##改變colorspace\n",
    "imd_hsv = cv2.cvtColor(imd,cv2.COLOR_BGR2HSV)\n",
    "imd_hsl = cv2.cvtColor(imd,cv2.COLOR_BGR2HLS)\n",
    "imd_lab = cv2.cvtColor(imd,cv2.COLOR_BGR2LAB)"
   ]
  },
  {
   "cell_type": "code",
   "execution_count": 6,
   "metadata": {},
   "outputs": [],
   "source": [
    "#show\n",
    "# 為了要不斷顯示圖片，所以使用一個迴圈\n",
    "while True:\n",
    "    cv2.imshow('bgr', imd)\n",
    "    cv2.imshow('hsv',imd_hsv)\n",
    "    cv2.imshow('hsl',imd_hsl)\n",
    "    cv2.imshow('lab',imd_lab)\n",
    "    # 直到按下 ESC 鍵才會自動關閉視窗結束程式\n",
    "    \n",
    "    k =cv2.waitKey(0)\n",
    "    if k == 27:\n",
    "        cv2.destroyAllWindows()\n",
    "        break"
   ]
  },
  {
   "cell_type": "code",
   "execution_count": 5,
   "metadata": {},
   "outputs": [],
   "source": []
  },
  {
   "cell_type": "code",
   "execution_count": null,
   "metadata": {},
   "outputs": [],
   "source": []
  }
 ],
 "metadata": {
  "kernelspec": {
   "display_name": "Python 3",
   "language": "python",
   "name": "python3"
  },
  "language_info": {
   "codemirror_mode": {
    "name": "ipython",
    "version": 3
   },
   "file_extension": ".py",
   "mimetype": "text/x-python",
   "name": "python",
   "nbconvert_exporter": "python",
   "pygments_lexer": "ipython3",
   "version": "3.7.6"
  }
 },
 "nbformat": 4,
 "nbformat_minor": 2
}
