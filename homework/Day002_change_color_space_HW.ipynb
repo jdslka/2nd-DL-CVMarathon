{
 "cells": [
  {
   "cell_type": "markdown",
   "metadata": {},
   "source": [
    "# 作業\n",
    "\n",
    "使用 [Lena](http://optipng.sourceforge.net/pngtech/img/lena.png)\n",
    "\n",
    "- 改變圖片的 color space (`HLS`, `LAB`) 並呈現"
   ]
  },
  {
   "cell_type": "markdown",
   "metadata": {},
   "source": [
    "# 重要知識點\n",
    "了解 Color presentation 的概念\n",
    "了解各種 Color presentation 表現的差異"
   ]
  },
  {
   "cell_type": "markdown",
   "metadata": {},
   "source": [
    "# 表示顏色的概念\n",
    "前面一節有提到圖片在電腦中是用矩陣的方式儲存，其中一個例子是用 RGB (Red, Green, Blue) 的格式來表示\n",
    "\n",
    "\n",
    "\n",
    "這是最常見的顏色表示法，我們將顏色設想成三為空間上的一個點X-Y-Z 軸分別代表 R-G-B 三種顏色的值的大小，並且限定在 0~255\n",
    "\n"
   ]
  },
  {
   "cell_type": "markdown",
   "metadata": {},
   "source": [
    "要定義一種顏色有很多種方式，而 RGB 是用三種顏色來定義\n",
    "\n",
    "\n",
    "\n",
    "我們接下來會介紹幾種不同的表示方式\n",
    "\n",
    "\n",
    "\n",
    "主要有以下兩種方向：\n",
    "\n",
    "改變維度：使用更多維度來表示一種顏色，使得整個空間可以定義更多種顏色\n",
    "改變數值意義：RGB 的三個數字定義三種顏色的值，改變定義就是不一樣的表示\n",
    "\n",
    "\n",
    "這邊我們需要著重的地方在於理解這些 color space 的意義\n",
    "\n",
    "並不一定需要深入理解不同 color space 之間轉換的數學"
   ]
  },
  {
   "cell_type": "code",
   "execution_count": null,
   "metadata": {},
   "outputs": [],
   "source": [
    "%%html\n",
    "<img src=\"hw2.1.jpg\", width=1000, height=600>"
   ]
  },
  {
   "cell_type": "markdown",
   "metadata": {},
   "source": [
    "其中 HSB = HSV 只是名稱不同\n",
    "\n",
    "\n",
    "\n",
    "  Hue 色相以 360 度決定顏色\n",
    "\n",
    "  Saturation 飽和度以 0~100% 決定色彩純度\n",
    "\n",
    "白, 黑, 灰色系色彩的飽和度為 0\n",
    "  Brightness 明度以 0~100% 決定鮮豔程度\n",
    "\n",
    "黑色明度為 0"
   ]
  },
  {
   "cell_type": "raw",
   "metadata": {},
   "source": [
    "而 HSL 在飽和度跟明亮度這邊與 HSB 的表示有點不同\n",
    "\n",
    "\n",
    "\n",
    "    飽和度\n",
    "\n",
    "HSB 的飽和度 0~100% 是白色到選擇的色相\n",
    "HSL 的飽和度 0~100% 是灰色到選擇的色相 ， 他們認為純白色是飽和的顏色\n",
    "\n",
    "\n",
    "    亮度\n",
    "\n",
    "HSB 的明度是光的量，可以是任何顏色 e.g. B=100 時看 H, S 決定是甚麼顏色\n",
    "HSL 的亮度是白色的量e.g. B=100 時是白色"
   ]
  },
  {
   "cell_type": "markdown",
   "metadata": {},
   "source": [
    "# 比較 LAB (optional)\n",
    "比起 RGB 的表示方式，LAB 可以表示的顏色範圍更大也更接近人眼可以感知的範圍\n",
    "\n",
    "\n",
    "\n",
    "    L = Lighness 以 0~100 決定明亮度\n",
    "\n",
    "數值由小到大，由黑到白\n",
    "\n",
    "    A 以 -128~127 代表顏色對立的維度\n",
    "\n",
    "數值由小到大，由綠到紅\n",
    "\n",
    "    B 以 -128~127 代表顏色對立的維度\n",
    "\n",
    "數值由小到大，由藍到黃"
   ]
  },
  {
   "cell_type": "code",
   "execution_count": null,
   "metadata": {},
   "outputs": [],
   "source": [
    "%%html\n",
    "<img src=\"hw2.2.jpg\", width=1000, height=600>"
   ]
  },
  {
   "cell_type": "markdown",
   "metadata": {},
   "source": [
    "# 其他表示顏色的方式 (optional)\n",
    "BGR\n",
    "\n",
    "為 OpenCV 中預設的圖片表示方式\n",
    "跟 RGB 是相同的表示方式只是順序顛倒為 (Blue, Green, Red)\n",
    "\n",
    "\n",
    "RGBA\n",
    "\n",
    "基於三組數字表示的 RGB，延伸出四組數字表示的 RGBA\n",
    "A 以 0~100 代表不透明程度，數值愈小愈透明"
   ]
  },
  {
   "cell_type": "markdown",
   "metadata": {},
   "source": [
    "# 透過 OpenCV 改變圖片的呈現"
   ]
  },
  {
   "cell_type": "code",
   "execution_count": null,
   "metadata": {},
   "outputs": [],
   "source": [
    "%%html\n",
    "<img src=\"hw2.3.jpg\", width=800, height=600>"
   ]
  },
  {
   "cell_type": "markdown",
   "metadata": {},
   "source": [
    "# 知識點回顧\n",
    "了解顏色表現方式的概念\n",
    "\n",
    "了解不同表示方式的定義與空間\n",
    "\n",
    "RGB\n",
    "HSB / HSV\n",
    "HSL"
   ]
  },
  {
   "cell_type": "markdown",
   "metadata": {},
   "source": [
    "# 作業2\n",
    "使用 Lena\n",
    "\n",
    "改變圖片的 color space (HLS, LAB) 並呈現"
   ]
  },
  {
   "cell_type": "code",
   "execution_count": null,
   "metadata": {},
   "outputs": [],
   "source": [
    "import cv2\n",
    "img=cv2.imread('lena.png',cv2.IMREAD_COLOR)\n",
    "cv2.imshow('brg',img)\n",
    "cv2.waitKey(0)\n",
    "cv2.destroyAllWindows()"
   ]
  },
  {
   "cell_type": "code",
   "execution_count": null,
   "metadata": {},
   "outputs": [],
   "source": [
    "img_hsv = cv2.cvtColor(img, cv2.COLOR_BGR2HSV)\n",
    "img_HLS = cv2.cvtColor(img, cv2.COLOR_BGR2HLS)\n",
    "img_LAB = cv2.cvtColor(img, cv2.COLOR_BGR2LAB)\n",
    "while True:\n",
    "    cv2.imshow('img_hsv',img_hsv)\n",
    "    cv2.imshow('img_HLS',img_HLS)\n",
    "    cv2.imshow('img_LAB',img_LAB)\n",
    "    # 直到按下 ESC 鍵才會自動關閉視窗結束程式\n",
    "    k = cv2.waitKey(0)\n",
    "    if k == 27:\n",
    "        cv2.destroyAllWindows()\n",
    "        break"
   ]
  },
  {
   "cell_type": "code",
   "execution_count": null,
   "metadata": {},
   "outputs": [],
   "source": []
  }
 ],
 "metadata": {
  "kernelspec": {
   "display_name": "Python 3",
   "language": "python",
   "name": "python3"
  },
  "language_info": {
   "codemirror_mode": {
    "name": "ipython",
    "version": 3
   },
   "file_extension": ".py",
   "mimetype": "text/x-python",
   "name": "python",
   "nbconvert_exporter": "python",
   "pygments_lexer": "ipython3",
   "version": "3.6.5"
  }
 },
 "nbformat": 4,
 "nbformat_minor": 2
}
