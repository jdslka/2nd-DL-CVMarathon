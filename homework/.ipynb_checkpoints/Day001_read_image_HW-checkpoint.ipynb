{
 "cells": [
  {
   "cell_type": "markdown",
   "metadata": {},
   "source": [
    "# 作業\n",
    "\n",
    "思考一下我們前面有提到圖片是矩陣，但維度可能會不一樣\n",
    "例如灰階圖只有兩個維度，RGB 彩圖則有 3 個維度\n",
    "\n",
    "假如今天我們把 RGB 3 個維度拆開來看會有甚麼不同的效果呢？"
   ]
  },
  {
   "cell_type": "markdown",
   "metadata": {},
   "source": [
    "# 1.重要知識點\n",
    "1.了解如何開始使用 OpenCV\n",
    "\n",
    "2.了解如何透過 OpenCV 讀取圖片"
   ]
  },
  {
   "cell_type": "markdown",
   "metadata": {},
   "source": [
    "##OpenCV 安裝\n",
    "由於這個開源專案也有提供 Python 版本，我們可以像是安裝一般 Python 套件一樣的透過 pip 指令下載\n",
    "pip install --user opencv-python##在anaconda prompt上下此指令安裝opencv(加上 user 的參數項代表我們希望把 OpenCV 安裝在 local 環境，這樣可以避免管理者權限的相關問題)"
   ]
  },
  {
   "cell_type": "code",
   "execution_count": null,
   "metadata": {},
   "outputs": [],
   "source": [
    "##透過 OpenCV 載入圖片\n",
    "import cv2\n",
    "img = cv2.imread('lena.png')##引入 OpenCV 的套件之後透過 imread 載入圖片\n",
    "cv2.imshow('img',img)\n",
    "cv2.waitKey(0)\n",
    "cv2.destroyAllWindows()"
   ]
  },
  {
   "cell_type": "code",
   "execution_count": null,
   "metadata": {},
   "outputs": [],
   "source": [
    "type(img)##你可以透過 type(img)發現 OpenCV 是用 numoy 表示圖片格式"
   ]
  },
  {
   "cell_type": "markdown",
   "metadata": {},
   "source": [
    "# 透過 OpenCV 載入圖片選項\n",
    "OpenCV 在載入圖片的時候可選擇載入方式的格式\n",
    "\n",
    "    cv2.IMREAD_COLOR (預設值)\n",
    "\n",
    "載入包含 Blue, Green, Red 三個 channel 的彩色圖片\n",
    "    \n",
    "    cv2.IMREAD_GRAYSCALE\n",
    "\n",
    "載入灰階格式的圖片\n",
    "    \n",
    "    cv2.IMREAD_UNCHANGED\n",
    "\n",
    "載入圖片中所有 channel"
   ]
  },
  {
   "cell_type": "code",
   "execution_count": null,
   "metadata": {},
   "outputs": [],
   "source": [
    "img = cv2.imread('lena.png',cv2.IMREAD_COLOR)\n",
    "cv2.imshow('rgb',img)\n",
    "cv2.waitKey(0)\n",
    "cv2.destroyAllWindows()"
   ]
  },
  {
   "cell_type": "code",
   "execution_count": null,
   "metadata": {},
   "outputs": [],
   "source": [
    "img = cv2.imread('lena.png',cv2.IMREAD_GRAYSCALE)\n",
    "cv2.imshow('GRAYSCALE',img)\n",
    "cv2.waitKey(0)\n",
    "cv2.destroyAllWindows()"
   ]
  },
  {
   "cell_type": "code",
   "execution_count": null,
   "metadata": {},
   "outputs": [],
   "source": [
    "img = cv2.imread('lena.png',cv2.IMREAD_UNCHANGED)\n",
    "cv2.imshow('UNCHANGED',img)\n",
    "cv2.waitKey(0)\n",
    "cv2.destroyAllWindows()"
   ]
  },
  {
   "cell_type": "markdown",
   "metadata": {},
   "source": [
    "透過 OpenCV 顯示圖片\n",
    "當我們載入圖片之後，接下需要決定要顯示的視窗名字"
   ]
  },
  {
   "cell_type": "code",
   "execution_count": null,
   "metadata": {},
   "outputs": [],
   "source": [
    "%%html\n",
    "<img src=\"hw1.2.jpg\", width=1000, height=600>"
   ]
  },
  {
   "cell_type": "markdown",
   "metadata": {},
   "source": [
    "# 知識點回顧\n",
    "知道如何安裝 OpenCV\n",
    "\n",
    "透過 pip 安裝的只有一般所需的功能\n",
    "\n",
    "知道如何夠過 OpenCV 顯示圖片\n",
    "\n",
    "載入圖片，選擇載入選項（預設彩圖）\n",
    "\n",
    "決定視窗名稱並顯示圖片"
   ]
  },
  {
   "cell_type": "markdown",
   "metadata": {},
   "source": [
    "# 2.作業\n",
    "思考一下我們前面有提到圖片是矩陣，但維度可能會不一樣 例如灰階圖只有兩個維度，RGB 彩圖則有 3 個維度\n",
    "\n",
    "假如今天我們把 RGB 3 個維度拆開來看會有甚麼不同的效果呢？"
   ]
  },
  {
   "cell_type": "code",
   "execution_count": 1,
   "metadata": {},
   "outputs": [],
   "source": [
    "##載入圖片\n",
    "import cv2\n",
    "img = cv2.imread('lena.png',cv2.IMREAD_COLOR)\n",
    "cv2.imshow('hw1',img)\n",
    "cv2.waitKey(0)\n",
    "cv2.destroyAllWindows()"
   ]
  },
  {
   "cell_type": "code",
   "execution_count": 2,
   "metadata": {},
   "outputs": [
    {
     "data": {
      "text/plain": [
       "array([[[125, 137, 226],\n",
       "        [125, 137, 226],\n",
       "        [133, 137, 223],\n",
       "        ...,\n",
       "        [122, 148, 230],\n",
       "        [110, 130, 221],\n",
       "        [ 90,  99, 200]],\n",
       "\n",
       "       [[125, 137, 226],\n",
       "        [125, 137, 226],\n",
       "        [133, 137, 223],\n",
       "        ...,\n",
       "        [122, 148, 230],\n",
       "        [110, 130, 221],\n",
       "        [ 90,  99, 200]],\n",
       "\n",
       "       [[125, 137, 226],\n",
       "        [125, 137, 226],\n",
       "        [133, 137, 223],\n",
       "        ...,\n",
       "        [122, 148, 230],\n",
       "        [110, 130, 221],\n",
       "        [ 90,  99, 200]],\n",
       "\n",
       "       ...,\n",
       "\n",
       "       [[ 60,  18,  84],\n",
       "        [ 60,  18,  84],\n",
       "        [ 58,  27,  92],\n",
       "        ...,\n",
       "        [ 84,  73, 173],\n",
       "        [ 76,  68, 172],\n",
       "        [ 79,  62, 177]],\n",
       "\n",
       "       [[ 57,  22,  82],\n",
       "        [ 57,  22,  82],\n",
       "        [ 62,  32,  96],\n",
       "        ...,\n",
       "        [ 79,  70, 179],\n",
       "        [ 81,  71, 181],\n",
       "        [ 81,  74, 185]],\n",
       "\n",
       "       [[ 57,  22,  82],\n",
       "        [ 57,  22,  82],\n",
       "        [ 62,  32,  96],\n",
       "        ...,\n",
       "        [ 79,  70, 179],\n",
       "        [ 81,  71, 181],\n",
       "        [ 81,  74, 185]]], dtype=uint8)"
      ]
     },
     "execution_count": 2,
     "metadata": {},
     "output_type": "execute_result"
    }
   ],
   "source": [
    "img"
   ]
  },
  {
   "cell_type": "code",
   "execution_count": 3,
   "metadata": {},
   "outputs": [
    {
     "data": {
      "text/plain": [
       "numpy.ndarray"
      ]
     },
     "execution_count": 3,
     "metadata": {},
     "output_type": "execute_result"
    }
   ],
   "source": [
    "type(img)"
   ]
  },
  {
   "cell_type": "code",
   "execution_count": 4,
   "metadata": {},
   "outputs": [],
   "source": [
    "b, g ,r =cv2.split(img)                 #顺序是b,g,r，不是r,g,b\n",
    "cv2.imshow(\"Blue 1\", b)\n",
    "cv2.imshow(\"Green 1\", g)\n",
    "cv2.imshow(\"Red 1\", r)\n",
    "cv2.waitKey(0)                          #一定要加cv2.waitKey(0),要不然会报错\n",
    "cv2.destroyAllWindows()"
   ]
  },
  {
   "cell_type": "code",
   "execution_count": 5,
   "metadata": {},
   "outputs": [],
   "source": [
    "merged = cv2.merge([b,g,r])\n",
    "cv2.imshow(\"merged 1\", merged)\n",
    "cv2.waitKey(0)                          #一定要加cv2.waitKey(0),要不然会报错\n",
    "cv2.destroyAllWindows()"
   ]
  },
  {
   "cell_type": "markdown",
   "metadata": {},
   "source": [
    "# Tip1：分离出来的RGB单通道图像是灰度图\n",
    "我们将RGB图像三通道拆分的过程实际上是先拆分出来，再形成了R/G/B的单通道的图像，而单通道图像就是灰度图（说起来有些绕，其实比较好理解）。如果想把它变成红色/绿色/蓝色的通道图，可以做通道合并（但其他通道分量为零），例如：我想得到红色通道图，代码如下："
   ]
  },
  {
   "cell_type": "code",
   "execution_count": 13,
   "metadata": {},
   "outputs": [],
   "source": [
    "import cv2\n",
    "import numpy as np\n",
    "\n",
    "img = cv2.imread('lena.png')\n",
    "b, g ,r =cv2.split(img)\n",
    "\n",
    "zeros = np.zeros(img.shape[:2], dtype = \"uint8\") ##做一個大小512的0矩陣         \n",
    "merged_r = cv2.merge([zeros,zeros,r])               #通道分量为零可以理解为零矩阵\n",
    "merged_b = cv2.merge([b,zeros,zeros])\n",
    "cv2.imshow('image',img)\n",
    "cv2.imshow(\"Red 1\", r)\n",
    "cv2.imshow(\"merged_r\",merged_r)\n",
    "cv2.imshow(\"blue 1\", b)\n",
    "cv2.imshow(\"merged_b\",merged_b)\n",
    "cv2.waitKey(0)\n",
    "cv2.destroyAllWindows()"
   ]
  },
  {
   "cell_type": "code",
   "execution_count": 9,
   "metadata": {},
   "outputs": [
    {
     "data": {
      "text/plain": [
       "(512, 512, 3)"
      ]
     },
     "execution_count": 9,
     "metadata": {},
     "output_type": "execute_result"
    }
   ],
   "source": [
    "img.shape[:]"
   ]
  },
  {
   "cell_type": "code",
   "execution_count": 10,
   "metadata": {},
   "outputs": [
    {
     "data": {
      "text/plain": [
       "(512, 512)"
      ]
     },
     "execution_count": 10,
     "metadata": {},
     "output_type": "execute_result"
    }
   ],
   "source": [
    "img.shape[:2]"
   ]
  },
  {
   "cell_type": "code",
   "execution_count": 11,
   "metadata": {},
   "outputs": [
    {
     "data": {
      "text/plain": [
       "array([[0, 0, 0, ..., 0, 0, 0],\n",
       "       [0, 0, 0, ..., 0, 0, 0],\n",
       "       [0, 0, 0, ..., 0, 0, 0],\n",
       "       ...,\n",
       "       [0, 0, 0, ..., 0, 0, 0],\n",
       "       [0, 0, 0, ..., 0, 0, 0],\n",
       "       [0, 0, 0, ..., 0, 0, 0]], dtype=uint8)"
      ]
     },
     "execution_count": 11,
     "metadata": {},
     "output_type": "execute_result"
    }
   ],
   "source": [
    "zeros"
   ]
  },
  {
   "cell_type": "code",
   "execution_count": null,
   "metadata": {},
   "outputs": [],
   "source": []
  }
 ],
 "metadata": {
  "kernelspec": {
   "display_name": "Python 3",
   "language": "python",
   "name": "python3"
  },
  "language_info": {
   "codemirror_mode": {
    "name": "ipython",
    "version": 3
   },
   "file_extension": ".py",
   "mimetype": "text/x-python",
   "name": "python",
   "nbconvert_exporter": "python",
   "pygments_lexer": "ipython3",
   "version": "3.6.5"
  }
 },
 "nbformat": 4,
 "nbformat_minor": 2
}
